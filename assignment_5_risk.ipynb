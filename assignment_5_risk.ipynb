{
 "cells": [
  {
   "cell_type": "markdown",
   "metadata": {},
   "source": [
    "References:\n",
    "\n",
    "Having never played the game of Risk previously, I first had to familiarize myself with the rules of the game: https://www.ultraboardgames.com/risk/game-rules.php\n",
    "During my research for this assignment, I read a number of interesting articles / papers using Python to analyse the game of Risk including:\n",
    "Hasbro Risk Part 1: Mechanics and basic probabilities https://medium.com/techfront/winning-at-risk-with-python-part-1-40d17d39d1e2\n",
    "DataGenetics RISK Analysis: http://datagenetics.com/blog/november22011/index.html\n",
    "\n",
    "However, based on my current level of Python aptitude, the following resource from The Python Coding Book was the most intuitive for me:\n",
    "https://thepythoncodingbook.com/2022/12/30/using-python-numpy-to-improve-board-game-strategy-risk/"
   ]
  },
  {
   "cell_type": "markdown",
   "metadata": {},
   "source": [
    "Brief (Part One):\n",
    "\n",
    "The initial brief is to simulate 1000 individual battle rounds in Risk (3 attackers vs 2 defenders) and plot the results.\n",
    "\n",
    "There are three possible outcomes for each individual battle from the Attacker's perspective: \n",
    "1. Attacker wins with two dice.\n",
    "2. Attacker wins with one die and loses with the other.\n",
    "3. Attacker wins with no dice.\n",
    "\n",
    "A pie chart with the 'Attacker Win' percentages should be a good way to represent these outcomes."
   ]
  },
  {
   "cell_type": "markdown",
   "metadata": {},
   "source": [
    "Pseudo Code:\n",
    "\n",
    "- Generate a 3x1000 array with random values from 1-6, representing the Attackers rolls.\n",
    "- Sort the Attackers rolls in descending order, and drop the lowest value which is not used in this Risk battle situation.\n",
    "- Generate a 2x1000 array with random values from 1-6, representing the Defenders rolls.\n",
    "- Sort the Defenders rolls in descending order.\n",
    "- Compare Attacker v Defender rolls to provide outcomes of the individual battles.\n",
    "- Plot the results"
   ]
  },
  {
   "cell_type": "markdown",
   "metadata": {},
   "source": [
    "Import the librarires we will be using for this assignment."
   ]
  },
  {
   "cell_type": "code",
   "execution_count": 100,
   "metadata": {},
   "outputs": [],
   "source": [
    "import numpy as np\n",
    "import matplotlib.pyplot as plt"
   ]
  },
  {
   "cell_type": "markdown",
   "metadata": {},
   "source": [
    "Set random number generator 'rng' and 'simuations' variables."
   ]
  },
  {
   "cell_type": "code",
   "execution_count": 101,
   "metadata": {},
   "outputs": [],
   "source": [
    "# For random number generation, we use numpy's Random Generator recommended constructor default_rng: \n",
    "# https://numpy.org/doc/stable/reference/random/generator.html#random-generator\n",
    "\n",
    "rng = np.random.default_rng()"
   ]
  },
  {
   "cell_type": "code",
   "execution_count": 102,
   "metadata": {},
   "outputs": [],
   "source": [
    "# Set number of simulations as a variable\n",
    "simulations = 1000"
   ]
  },
  {
   "cell_type": "markdown",
   "metadata": {},
   "source": [
    "Generate simulations of Attacker and Defender dice rolls, sorting them in descending order."
   ]
  },
  {
   "cell_type": "code",
   "execution_count": 103,
   "metadata": {},
   "outputs": [
    {
     "name": "stdout",
     "output_type": "stream",
     "text": [
      "[[6 3 1]\n",
      " [4 4 2]\n",
      " [4 2 1]\n",
      " ...\n",
      " [6 1 1]\n",
      " [6 6 5]\n",
      " [6 3 2]]\n"
     ]
    }
   ],
   "source": [
    "# Generate #simulations of Attacker dice rolls and store in a 2 dimensional (simulations, 3) numpy array.\n",
    "attack = rng.integers(1, 7, size = (simulations, 3))\n",
    "# Sort (ascending) and then flip to sort (descending).\n",
    "attack.sort()\n",
    "attack = np.flip(attack)\n",
    "print(attack)"
   ]
  },
  {
   "cell_type": "code",
   "execution_count": 104,
   "metadata": {},
   "outputs": [
    {
     "name": "stdout",
     "output_type": "stream",
     "text": [
      "[[5 3]\n",
      " [5 2]\n",
      " [5 4]\n",
      " ...\n",
      " [2 1]\n",
      " [3 2]\n",
      " [5 5]]\n"
     ]
    }
   ],
   "source": [
    "# Generate #simulations of Defender dice rolls and store in a 2 dimensional (simulations, 2) numpy array.\n",
    "defence = rng.integers(1, 7, size = (simulations, 2))\n",
    "# Sort (ascending) and then flip to sort (descending).\n",
    "defence.sort()\n",
    "defence = np.flip(defence)\n",
    "print(defence)"
   ]
  },
  {
   "cell_type": "markdown",
   "metadata": {},
   "source": [
    "Compare Attack versus Defence dice and store as 'Result'."
   ]
  },
  {
   "cell_type": "code",
   "execution_count": 105,
   "metadata": {},
   "outputs": [
    {
     "name": "stdout",
     "output_type": "stream",
     "text": [
      "[[ True False]\n",
      " [False  True]\n",
      " [False False]\n",
      " ...\n",
      " [ True False]\n",
      " [ True  True]\n",
      " [ True False]]\n"
     ]
    }
   ],
   "source": [
    "# https://www.geeksforgeeks.org/python-operations-on-numpy-arrays/\n",
    "# https://www.w3schools.com/python/numpy/numpy_array_slicing.asp \n",
    "# https://stackoverflow.com/questions/10625096/extracting-first-n-columns-of-a-numpy-matrix\n",
    "# [start:end] [:, :2] specifies all rows (start = 0 and end = length of array), first 2 columns.\n",
    "Result = attack[:, :2] > defence[:, :2]\n",
    "print(Result)"
   ]
  },
  {
   "cell_type": "markdown",
   "metadata": {},
   "source": [
    "Count the number of true elements (representing Attacker Wins) in our Numpy array using count_nonzero() method: https://btechgeeks.com/python-count-number-of-true-elements-in-numpy-array-in-python/"
   ]
  },
  {
   "cell_type": "code",
   "execution_count": 127,
   "metadata": {},
   "outputs": [
    {
     "name": "stdout",
     "output_type": "stream",
     "text": [
      "[1 1 0 1 2 2 0 2 2 2 1 0 2 1 2 2 1 1 0 2 1 1 2 2 0 0 2 2 0 0 2 2 2 0 2 2 0\n",
      " 1 0 2 1 1 1 2 0 0 1 0 1 1 2 2 0 2 2 2 1 0 0 0 0 1 0 2 2 2 2 1 2 0 2 1 2 1\n",
      " 1 2 1 2 0 2 2 1 1 2 0 1 1 1 0 2 0 0 0 2 0 2 1 2 2 2 1 2 1 1 2 1 0 0 2 2 1\n",
      " 0 0 1 1 2 1 1 2 1 0 2 1 2 1 2 0 1 0 2 1 2 1 2 2 0 1 1 0 0 2 2 1 0 0 2 2 0\n",
      " 1 1 2 2 1 1 0 1 0 0 1 0 2 2 1 0 1 2 0 2 1 2 1 2 2 1 1 2 2 2 1 0 2 1 2 2 0\n",
      " 0 2 2 1 0 0 1 0 0 0 2 1 1 2 1 2 2 1 1 0 0 2 0 2 2 1 1 0 1 0 0 2 2 1 2 2 2\n",
      " 0 2 2 2 2 2 1 1 0 0 1 0 2 0 2 1 0 2 2 2 0 2 1 2 2 2 2 0 0 1 1 1 1 0 0 2 0\n",
      " 0 0 2 1 2 2 1 2 1 1 0 0 0 2 1 0 0 2 1 0 2 0 2 1 1 0 2 2 2 2 1 2 2 2 2 1 2\n",
      " 0 2 1 1 2 2 0 0 0 1 1 0 1 0 1 2 2 0 2 0 0 2 1 2 2 2 1 2 1 0 0 1 2 0 1 1 1\n",
      " 1 2 0 0 0 1 1 0 1 1 2 2 1 2 2 1 2 1 1 2 2 0 0 2 1 2 2 1 2 2 2 0 1 1 2 1 0\n",
      " 0 1 1 2 2 0 2 1 0 1 0 1 0 2 2 1 2 1 2 2 0 0 0 2 0 2 2 2 2 2 0 0 0 1 0 2 0\n",
      " 1 2 0 0 2 0 1 0 1 0 2 2 0 2 0 2 0 1 1 0 1 2 1 1 0 2 0 0 1 1 0 2 2 2 1 0 1\n",
      " 1 2 1 0 2 1 1 1 1 2 2 2 2 2 1 1 0 2 1 0 2 1 0 2 0 2 2 0 1 2 2 1 2 1 1 1 2\n",
      " 2 1 2 2 1 2 1 0 2 2 0 2 2 1 2 2 2 1 2 1 0 0 2 2 0 1 2 1 0 1 1 0 0 1 2 2 2\n",
      " 1 2 1 2 1 2 1 0 1 1 1 2 1 2 2 2 2 1 2 1 1 1 0 2 0 2 1 0 2 2 2 2 2 1 1 0 0\n",
      " 2 2 2 0 2 1 2 1 0 0 1 2 0 1 2 0 1 1 1 0 2 0 2 0 2 1 2 0 2 2 2 2 2 2 0 0 1\n",
      " 1 1 2 2 0 1 0 2 2 1 2 2 2 1 2 2 2 1 0 1 0 2 1 0 2 2 0 0 0 2 2 2 0 1 0 2 0\n",
      " 1 2 1 2 0 2 2 1 2 1 2 2 0 1 0 2 1 1 1 1 0 2 1 1 0 2 1 1 2 2 0 0 0 1 0 1 2\n",
      " 0 2 2 2 2 1 2 2 0 2 1 0 2 1 2 1 0 0 1 2 2 2 0 2 2 2 1 1 2 1 1 0 1 2 0 0 0\n",
      " 1 2 2 2 2 0 1 0 0 0 0 0 2 0 2 0 2 2 2 2 0 0 2 2 1 0 1 0 2 1 0 2 2 1 0 2 2\n",
      " 2 2 1 0 0 1 1 2 2 2 1 2 0 2 2 1 1 2 2 1 1 1 2 2 1 2 1 2 2 1 0 2 2 2 2 2 2\n",
      " 2 0 0 1 1 2 1 2 1 1 1 2 2 0 0 2 2 2 2 1 1 1 2 0 0 0 2 0 1 1 1 1 2 1 0 0 1\n",
      " 1 1 2 1 1 1 2 1 2 2 2 2 2 1 0 0 2 0 2 2 1 2 1 2 0 1 2 1 2 1 1 0 1 1 2 1 2\n",
      " 0 2 2 2 0 0 0 1 1 0 1 1 2 1 1 2 1 0 2 2 1 1 2 1 2 0 2 0 1 0 2 1 0 1 0 1 2\n",
      " 0 1 2 0 1 0 0 1 1 2 2 0 1 1 2 0 2 2 0 0 1 2 1 0 0 2 2 2 1 0 2 0 0 2 2 0 2\n",
      " 2 0 2 2 0 0 1 0 2 1 0 2 2 0 1 1 2 0 2 1 2 0 0 2 0 0 2 0 1 2 2 1 0 2 2 1 0\n",
      " 0 0 2 1 0 0 0 0 2 1 1 0 0 2 2 2 1 2 1 1 2 2 1 1 2 0 1 1 2 1 0 1 2 1 0 1 2\n",
      " 1]\n"
     ]
    }
   ],
   "source": [
    "# axis=1 means return count row-wise\n",
    "attack_wins = np.count_nonzero(Result, axis=1)\n",
    "print(count)"
   ]
  },
  {
   "cell_type": "markdown",
   "metadata": {},
   "source": [
    "Count the frequency of the three different (unique) outcomes: https://www.geeksforgeeks.org/how-to-count-the-frequency-of-unique-values-in-numpy-array/"
   ]
  },
  {
   "cell_type": "code",
   "execution_count": 121,
   "metadata": {},
   "outputs": [
    {
     "name": "stdout",
     "output_type": "stream",
     "text": [
      "[0 1 2] [275 317 408]\n"
     ]
    }
   ],
   "source": [
    "unique, frequency = np.unique(attack_wins, return_counts=True)\n",
    "\n",
    "print (unique, frequency)"
   ]
  },
  {
   "cell_type": "markdown",
   "metadata": {},
   "source": [
    "Now plot the attack win percentages on a pie chart"
   ]
  },
  {
   "cell_type": "code",
   "execution_count": 125,
   "metadata": {},
   "outputs": [
    {
     "data": {
      "text/plain": [
       "Text(0.5, 1.0, 'Number of Attacker Wins (%)')"
      ]
     },
     "execution_count": 125,
     "metadata": {},
     "output_type": "execute_result"
    },
    {
     "data": {
      "image/png": "[encoded data removed]",
      "text/plain": [
       "<Figure size 640x480 with 1 Axes>"
      ]
     },
     "metadata": {},
     "output_type": "display_data"
    }
   ],
   "source": [
    "#https://matplotlib.org/stable/gallery/pie_and_polar_charts/pie_features.html\n",
    "\n",
    "plt.style.use('seaborn-v0_8-pastel')\n",
    "\n",
    "fig, ax = plt.subplots()\n",
    "ax.pie(frequency, labels=unique, autopct='%1.1f%%')\n",
    "\n",
    "# Title & Labels\n",
    "ax.set_title('Number of Attacker Wins (%)', weight='bold')"
   ]
  },
  {
   "cell_type": "markdown",
   "metadata": {},
   "source": [
    "Brief (Part Two):\n",
    "\n",
    "Extend the above to simulate a full series of rounds for armies of arbitrary sizes, until one side is wiped out, and plots the results."
   ]
  },
  {
   "cell_type": "markdown",
   "metadata": {},
   "source": []
  }
 ],
 "metadata": {
  "kernelspec": {
   "display_name": "base",
   "language": "python",
   "name": "python3"
  },
  "language_info": {
   "codemirror_mode": {
    "name": "ipython",
    "version": 3
   },
   "file_extension": ".py",
   "mimetype": "text/x-python",
   "name": "python",
   "nbconvert_exporter": "python",
   "pygments_lexer": "ipython3",
   "version": "3.11.10"
  }
 },
 "nbformat": 4,
 "nbformat_minor": 2
}
