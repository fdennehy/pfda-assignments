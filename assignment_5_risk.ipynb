{
 "cells": [
  {
   "cell_type": "markdown",
   "metadata": {},
   "source": [
    "# Risk #"
   ]
  },
  {
   "cell_type": "markdown",
   "metadata": {},
   "source": [
    "## Brief (Part One) ##\n",
    "\n",
    "Simulate 1,000 individual battle rounds in Risk (3 attackers vs 2 defenders) and plot the results.\n",
    "\n",
    "There are three possible outcomes for each individual battle from the Attacker's perspective: \n",
    "1. Attacker wins with two dice.\n",
    "2. Attacker wins with one die and loses with the other.\n",
    "3. Attacker wins with no dice.\n",
    "\n",
    "A pie chart with the 'Attacker Win' percentages can represent these outcomes."
   ]
  },
  {
   "cell_type": "markdown",
   "metadata": {},
   "source": [
    "## References ##\n",
    "\n",
    "The following resources were used as part of research for this assignment. The Python Coding book was particularly useful:\n",
    "\n",
    "- [Rules of the game](https://www.ultraboardgames.com/risk/game-rules.php)\n",
    "- [Hasbro Risk Part 1: Mechanics and basic probabilities](https://medium.com/techfront/winning-at-risk-with-python-part-1-40d17d39d1e2)\n",
    "- [DataGenetics RISK Analysis](http://datagenetics.com/blog/november22011/index.html)\n",
    "- [The Python Coding Book: Using numpy to improve board game strategy](https://thepythoncodingbook.com/2022/12/30/using-python-numpy-to-improve-board-game-strategy-risk)"
   ]
  },
  {
   "cell_type": "markdown",
   "metadata": {},
   "source": [
    "## Import libraries ##"
   ]
  },
  {
   "cell_type": "code",
   "execution_count": 1,
   "metadata": {},
   "outputs": [],
   "source": [
    "# Import required libraries.\n",
    "import numpy as np\n",
    "import matplotlib.pyplot as plt"
   ]
  },
  {
   "cell_type": "markdown",
   "metadata": {},
   "source": [
    "## Data Generation ##"
   ]
  },
  {
   "cell_type": "markdown",
   "metadata": {},
   "source": [
    "Set random number generator `rng` and `simulations` variables."
   ]
  },
  {
   "cell_type": "code",
   "execution_count": 2,
   "metadata": {},
   "outputs": [],
   "source": [
    "# For random number generation, use numpy's Random Generator recommended constructor default_rng: \n",
    "# https://numpy.org/doc/stable/reference/random/generator.html#random-generator\n",
    "rng = np.random.default_rng()\n",
    "\n",
    "# Set number of simulations as a variable\n",
    "simulations = 1000"
   ]
  },
  {
   "cell_type": "markdown",
   "metadata": {},
   "source": [
    "Generate simulations of Attacker and Defender dice rolls, sorting them in descending order."
   ]
  },
  {
   "cell_type": "code",
   "execution_count": 52,
   "metadata": {},
   "outputs": [
    {
     "name": "stdout",
     "output_type": "stream",
     "text": [
      "[[5 2 2]\n",
      " [4 2 2]\n",
      " [6 5 5]\n",
      " ...\n",
      " [4 3 2]\n",
      " [6 5 4]\n",
      " [6 2 2]]\n",
      "[[4 1]\n",
      " [5 4]\n",
      " [6 4]\n",
      " ...\n",
      " [6 1]\n",
      " [5 2]\n",
      " [6 6]]\n"
     ]
    }
   ],
   "source": [
    "# Generate #simulations of Attacker dice rolls and store in a 2 dimensional (simulations, 3) numpy array.\n",
    "attack = rng.integers(1, 7, size = (simulations, 3))\n",
    "\n",
    "# Generate #simulations of Defender dice rolls and store in a 2 dimensional (simulations, 2) numpy array.\n",
    "defence = rng.integers(1, 7, size = (simulations, 2))\n",
    "\n",
    "# Sort (ascending): \n",
    "# https://numpy.org/doc/stable/reference/generated/numpy.sort.html\n",
    "attack.sort()\n",
    "defence.sort()\n",
    "\n",
    "# Flip (descending): \n",
    "# https://numpy.org/doc/stable/reference/generated/numpy.flip.html\n",
    "attack = np.flip(attack)\n",
    "defence = np.flip(defence)\n",
    "\n",
    "# Print (truncated) attack and defence arrays.\n",
    "print(attack)\n",
    "print(defence)"
   ]
  },
  {
   "cell_type": "markdown",
   "metadata": {},
   "source": [
    "Compare `attack` versus `defence` arrays, representing dice rolls, and store as `result` array."
   ]
  },
  {
   "cell_type": "code",
   "execution_count": 53,
   "metadata": {},
   "outputs": [
    {
     "name": "stdout",
     "output_type": "stream",
     "text": [
      "[[ True  True]\n",
      " [False False]\n",
      " [False  True]\n",
      " ...\n",
      " [False  True]\n",
      " [ True  True]\n",
      " [False False]]\n"
     ]
    }
   ],
   "source": [
    "# https://www.geeksforgeeks.org/python-operations-on-numpy-arrays/\n",
    "# https://www.w3schools.com/python/numpy/numpy_array_slicing.asp \n",
    "# https://stackoverflow.com/questions/10625096/extracting-first-n-columns-of-a-numpy-matrix\n",
    "# [start:end] [:, :2] specifies all rows (start = 0 and end = length of array), first 2 columns.\n",
    "result = attack[:, :2] > defence[:, :2]\n",
    "print(result)"
   ]
  },
  {
   "cell_type": "markdown",
   "metadata": {},
   "source": [
    "All relevant data is generated:\n",
    "\n",
    "1. Attacker Rolls\n",
    "2. Defender Rolls\n",
    "3. Results array indicatng Attacker Wins."
   ]
  },
  {
   "cell_type": "markdown",
   "metadata": {},
   "source": [
    "## Data Analysis ##"
   ]
  },
  {
   "cell_type": "markdown",
   "metadata": {},
   "source": [
    "Count the number of true elements (representing Attacker Wins) in `result` array using count_nonzero() method."
   ]
  },
  {
   "cell_type": "code",
   "execution_count": 54,
   "metadata": {},
   "outputs": [
    {
     "name": "stdout",
     "output_type": "stream",
     "text": [
      "[2 0 1 0 0 0 0 1 1 1 2 0 2 2 2 1 2 2 1 2 1 1 0 2 0 0 1 0 2 0 0 1 2 0 2 1 0\n",
      " 2 0 0 2 0 1 1 0 0 2 0 1 0 2 1 0 0 2 0 2 1 2 0 2 2 0 2 0 2 1 2 0 0 1 1 2 2\n",
      " 0 2 0 1 1 0 0 2 2 0 0 1 1 2 2 1 2 2 0 1 2 2 0 0 2 1 2 1 0 2 1 2 0 1 0 2 2\n",
      " 1 1 0 0 2 0 2 0 2 0 1 0 0 1 1 1 1 2 2 0 1 0 1 1 2 0 1 0 1 1 2 2 2 0 1 0 1\n",
      " 1 1 2 1 1 2 1 0 2 2 2 2 1 2 1 2 2 1 1 0 2 1 1 2 0 0 1 0 1 1 2 1 2 0 0 0 0\n",
      " 2 2 0 1 1 1 2 1 2 0 2 2 1 0 1 0 2 2 2 0 2 0 2 2 2 2 1 0 1 2 1 2 1 1 1 0 1\n",
      " 2 1 0 2 2 1 1 2 2 2 0 2 1 0 2 0 0 2 0 0 0 1 1 2 1 2 0 0 1 0 1 2 1 2 2 1 0\n",
      " 1 2 0 0 0 0 2 0 1 2 1 1 1 1 2 1 1 1 2 2 1 0 0 2 0 0 1 1 2 1 2 1 2 0 0 1 0\n",
      " 2 2 1 1 2 2 0 1 0 1 1 2 2 2 2 1 1 1 2 1 1 2 2 2 1 2 0 1 0 2 2 0 1 2 2 2 2\n",
      " 2 1 0 2 1 2 2 2 1 1 0 1 0 1 1 1 0 1 2 2 2 0 2 0 2 2 0 2 1 1 0 2 1 0 2 2 1\n",
      " 0 0 1 0 1 2 2 2 2 1 1 1 2 1 1 1 2 2 2 0 1 1 2 1 2 0 2 1 1 1 1 1 0 2 0 1 1\n",
      " 0 1 1 1 1 2 2 2 1 1 0 0 1 0 0 2 2 1 2 2 2 0 1 0 0 2 0 2 0 0 2 2 2 2 0 1 1\n",
      " 1 0 1 2 1 2 2 1 2 2 1 1 0 2 1 2 1 2 2 2 1 0 2 2 0 0 1 2 0 0 2 1 2 1 2 1 2\n",
      " 0 2 0 0 1 1 1 2 2 0 1 2 0 2 0 1 1 2 2 2 2 1 1 0 2 2 2 2 2 0 2 1 0 0 1 1 0\n",
      " 2 2 1 1 2 0 1 1 1 1 2 2 1 2 0 2 0 2 2 2 2 1 0 1 2 2 2 0 0 2 1 0 0 2 1 2 1\n",
      " 1 2 2 2 2 0 1 0 0 0 0 2 2 0 1 1 1 2 2 2 0 0 0 0 1 1 0 1 1 2 0 1 2 0 0 1 2\n",
      " 0 0 1 1 1 0 1 1 0 2 1 0 2 1 1 1 0 1 1 1 0 2 0 1 1 2 0 2 0 0 0 1 2 2 2 0 2\n",
      " 2 1 0 1 0 2 2 2 1 1 1 2 2 0 2 1 2 1 2 0 1 0 1 0 2 1 2 1 1 2 0 2 2 2 2 1 2\n",
      " 2 2 0 0 0 1 2 2 0 0 2 2 0 1 1 0 0 2 1 2 1 1 1 2 0 1 1 2 2 0 2 0 1 1 1 1 1\n",
      " 1 1 0 2 1 2 1 2 1 0 1 2 0 1 0 0 1 1 1 0 0 1 2 1 2 0 2 0 0 2 0 2 2 2 2 1 0\n",
      " 2 2 1 0 1 2 2 2 2 1 2 1 0 0 1 1 1 1 0 2 2 0 0 0 1 0 0 0 2 0 1 2 0 0 0 1 2\n",
      " 2 1 2 1 1 1 2 1 2 2 2 1 0 0 1 2 1 0 2 2 0 1 2 2 2 1 1 1 1 2 1 2 0 0 2 2 1\n",
      " 1 1 0 2 0 2 1 2 1 1 1 2 1 1 2 2 2 2 0 0 1 2 0 2 2 1 2 2 1 2 0 1 0 2 2 2 0\n",
      " 1 1 1 0 0 2 1 2 0 1 2 0 2 1 2 1 1 2 2 2 2 0 1 1 2 2 0 1 2 0 2 0 0 2 2 1 2\n",
      " 1 1 2 0 0 0 2 0 0 1 1 0 1 1 1 2 0 2 1 1 1 1 1 0 1 1 0 1 2 1 2 0 1 2 1 0 0\n",
      " 0 2 1 2 0 2 1 2 1 1 2 1 1 0 0 2 2 2 2 0 2 1 2 1 1 0 0 1 2 1 1 0 2 0 0 0 0\n",
      " 0 1 2 1 0 2 1 2 2 0 2 2 1 2 1 1 2 1 2 1 0 1 2 0 1 0 2 2 2 2 1 2 2 1 2 1 2\n",
      " 0]\n"
     ]
    }
   ],
   "source": [
    "# https://btechgeeks.com/python-count-number-of-true-elements-in-numpy-array-in-python/\n",
    "# axis=1 means return count row-wise\n",
    "attack_wins = np.count_nonzero(result, axis=1)\n",
    "print(attack_wins)"
   ]
  },
  {
   "cell_type": "markdown",
   "metadata": {},
   "source": [
    "Count the frequency of the three different (unique) outcomes."
   ]
  },
  {
   "cell_type": "code",
   "execution_count": 55,
   "metadata": {},
   "outputs": [
    {
     "name": "stdout",
     "output_type": "stream",
     "text": [
      "[0 1 2] [279 348 373]\n"
     ]
    }
   ],
   "source": [
    "# https://www.geeksforgeeks.org/how-to-count-the-frequency-of-unique-values-in-numpy-array/\n",
    "unique, frequency = np.unique(attack_wins, return_counts=True)\n",
    "\n",
    "print (unique, frequency)"
   ]
  },
  {
   "cell_type": "markdown",
   "metadata": {},
   "source": [
    "Now plot the attack win percentages on a pie chart"
   ]
  },
  {
   "cell_type": "code",
   "execution_count": 94,
   "metadata": {},
   "outputs": [
    {
     "data": {
      "text/plain": [
       "<matplotlib.legend.Legend at 0x21f18a65f90>"
      ]
     },
     "execution_count": 94,
     "metadata": {},
     "output_type": "execute_result"
    },
    {
     "data": {
      "image/png": "[encoded data removed]",
      "text/plain": [
       "<Figure size 640x480 with 1 Axes>"
      ]
     },
     "metadata": {},
     "output_type": "display_data"
    }
   ],
   "source": [
    "# https://matplotlib.org/stable/gallery/pie_and_polar_charts/pie_features.html\n",
    "# https://www.geeksforgeeks.org/matplotlib-axes-axes-pie-in-python/\n",
    "\n",
    "plt.style.use('seaborn-v0_8-pastel')\n",
    "\n",
    "# plot figure and axes\n",
    "fig, ax = plt.subplots()\n",
    "\n",
    "# Title.\n",
    "ax.set_title('Attacker Win % per battle round', weight='bold')\n",
    "\n",
    "# Set values for slice explosion\n",
    "# https://how2matplotlib.com/matplotlib-pie-chart.html\n",
    "explode = (0.04,0.04,0.04)\n",
    "\n",
    "# Create pie chart\n",
    "ax.pie(frequency, explode = explode, autopct='%1.1f%%', shadow = True)\n",
    "\n",
    "# Add legend\n",
    "# https://matplotlib.org/stable/api/legend_api.html#matplotlib.legend.Legend\n",
    "ax.legend(title='# Attack Wins', labels = unique, loc = 'upper left', bbox_to_anchor=(-0.2,1))"
   ]
  },
  {
   "cell_type": "markdown",
   "metadata": {},
   "source": [
    "## Brief (Part Two) ##\n",
    "\n",
    "Extend the above to simulate a full series of rounds for armies of arbitrary sizes, until one side is wiped out, and plots the results."
   ]
  },
  {
   "cell_type": "code",
   "execution_count": 103,
   "metadata": {},
   "outputs": [],
   "source": [
    "# User inputs size of armies:\n",
    "attacking_army_size = int(input(\"Enter the size of the attacking army: \"))\n",
    "defending_army_size = int(input(\"Enter the size of the defending army: \"))"
   ]
  },
  {
   "cell_type": "code",
   "execution_count": 108,
   "metadata": {},
   "outputs": [
    {
     "name": "stdout",
     "output_type": "stream",
     "text": [
      "The size of the attacking army is 120\n",
      "The size of the defending army is 32\n"
     ]
    }
   ],
   "source": [
    "# Print user input\n",
    "print(f\"The size of the attacking army is {attacking_army_size}\")\n",
    "print(f\"The size of the defending army is {defending_army_size}\")"
   ]
  },
  {
   "cell_type": "markdown",
   "metadata": {},
   "source": [
    "## Create Functions ##"
   ]
  },
  {
   "cell_type": "markdown",
   "metadata": {},
   "source": [
    "### Dice Roll Function ###"
   ]
  },
  {
   "cell_type": "code",
   "execution_count": 98,
   "metadata": {},
   "outputs": [],
   "source": [
    "# function for simulating a dice roll, taking number of dice as input, and sorting list of rolls in descending order.\n",
    "def dice_roll(num_dice):\n",
    "    rolls = rng.integers(1, 7, size=num_dice)\n",
    "    rolls.sort()\n",
    "    rolls = np.flip(rolls)\n",
    "    return rolls"
   ]
  },
  {
   "cell_type": "code",
   "execution_count": 102,
   "metadata": {},
   "outputs": [
    {
     "data": {
      "text/plain": [
       "array([6, 5, 3, 3, 3, 2, 1], dtype=int64)"
      ]
     },
     "execution_count": 102,
     "metadata": {},
     "output_type": "execute_result"
    }
   ],
   "source": [
    "# Test dice roll function\n",
    "dice_roll(7)"
   ]
  },
  {
   "cell_type": "markdown",
   "metadata": {},
   "source": [
    "### Battle Simulation Function ###"
   ]
  },
  {
   "cell_type": "markdown",
   "metadata": {},
   "source": [
    "## End ##"
   ]
  }
 ],
 "metadata": {
  "kernelspec": {
   "display_name": "base",
   "language": "python",
   "name": "python3"
  },
  "language_info": {
   "codemirror_mode": {
    "name": "ipython",
    "version": 3
   },
   "file_extension": ".py",
   "mimetype": "text/x-python",
   "name": "python",
   "nbconvert_exporter": "python",
   "pygments_lexer": "ipython3",
   "version": "3.11.10"
  }
 },
 "nbformat": 4,
 "nbformat_minor": 2
}
